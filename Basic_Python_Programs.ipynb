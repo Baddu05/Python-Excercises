{
 "cells": [
  {
   "cell_type": "code",
   "execution_count": 22,
   "metadata": {},
   "outputs": [
    {
     "name": "stdout",
     "output_type": "stream",
     "text": [
      "[{'name': 'Dublin Airport', 'temperature': '11', 'symbol': '40n', 'weatherDescription': 'Light rain showers', 'text': '\"Recent Rain\"', 'windSpeed': '41', 'windGust': '70', 'cardinalWindDirection': 'SW', 'windDirection': 225, 'humidity': ' 85 ', 'rainfall': ' 0.1 ', 'pressure': '986', 'dayName': 'Sunday', 'date': '09-02-2020', 'reportTime': '00:00'}, {'name': 'Dublin Airport', 'temperature': '11', 'symbol': '46n', 'weatherDescription': 'Light rain ', 'text': '\"Light rain \"', 'windSpeed': '37', 'windGust': '72', 'cardinalWindDirection': 'SW', 'windDirection': 225, 'humidity': ' 89 ', 'rainfall': ' 0.01 ', 'pressure': '986', 'dayName': 'Sunday', 'date': '09-02-2020', 'reportTime': '01:00'}, {'name': 'Dublin Airport', 'temperature': '11', 'symbol': '46n', 'weatherDescription': 'Light rain ', 'text': '\"Light rain \"', 'windSpeed': '30', 'windGust': '65', 'cardinalWindDirection': 'SW', 'windDirection': 225, 'humidity': ' 92 ', 'rainfall': ' 0.8 ', 'pressure': '987', 'dayName': 'Sunday', 'date': '09-02-2020', 'reportTime': '02:00'}, {'name': 'Dublin Airport', 'temperature': '11', 'symbol': '46n', 'weatherDescription': 'Light rain ', 'text': '\"Light rain \"', 'windSpeed': '24', 'windGust': '54', 'cardinalWindDirection': 'SW', 'windDirection': 225, 'humidity': ' 90 ', 'rainfall': ' 1.5 ', 'pressure': '983', 'dayName': 'Sunday', 'date': '09-02-2020', 'reportTime': '03:00'}, {'name': 'Dublin Airport', 'temperature': '11', 'symbol': '46n', 'weatherDescription': 'Light rain ', 'text': '\"Light rain \"', 'windSpeed': '31', 'windGust': '52', 'cardinalWindDirection': 'SW', 'windDirection': 225, 'humidity': ' 92 ', 'rainfall': ' 3.3 ', 'pressure': '983', 'dayName': 'Sunday', 'date': '09-02-2020', 'reportTime': '04:00'}, {'name': 'Dublin Airport', 'temperature': '11', 'symbol': '46n', 'weatherDescription': 'Light rain ', 'text': '\"Light rain \"', 'windSpeed': '31', 'windGust': '54', 'cardinalWindDirection': 'SW', 'windDirection': 225, 'humidity': ' 90 ', 'rainfall': ' 0.4 ', 'pressure': '979', 'dayName': 'Sunday', 'date': '09-02-2020', 'reportTime': '05:00'}, {'name': 'Dublin Airport', 'temperature': '11', 'symbol': '46n', 'weatherDescription': 'Light rain ', 'text': '\"Light rain \"', 'windSpeed': '31', 'windGust': '56', 'cardinalWindDirection': 'SW', 'windDirection': 225, 'humidity': ' 92 ', 'rainfall': ' 3.2 ', 'pressure': '978', 'dayName': 'Sunday', 'date': '09-02-2020', 'reportTime': '06:00'}, {'name': 'Dublin Airport', 'temperature': '11', 'symbol': '46n', 'weatherDescription': 'Light rain ', 'text': '\"Light rain \"', 'windSpeed': '39', 'windGust': '67', 'cardinalWindDirection': 'SW', 'windDirection': 225, 'humidity': ' 92 ', 'rainfall': ' 1.5 ', 'pressure': '975', 'dayName': 'Sunday', 'date': '09-02-2020', 'reportTime': '07:00'}, {'name': 'Dublin Airport', 'temperature': '10', 'symbol': '09d', 'weatherDescription': 'Rain', 'text': '\"Moderate rain \"', 'windSpeed': '43', 'windGust': '74', 'cardinalWindDirection': 'W', 'windDirection': 270, 'humidity': ' 94 ', 'rainfall': ' 5.1 ', 'pressure': '974', 'dayName': 'Sunday', 'date': '09-02-2020', 'reportTime': '08:00'}, {'name': 'Dublin Airport', 'temperature': '9', 'symbol': '46d', 'weatherDescription': 'Light rain ', 'text': '\"Light rain \"', 'windSpeed': '37', 'windGust': '89', 'cardinalWindDirection': 'W', 'windDirection': 270, 'humidity': ' 82 ', 'rainfall': ' 5.1 ', 'pressure': '975', 'dayName': 'Sunday', 'date': '09-02-2020', 'reportTime': '09:00'}, {'name': 'Dublin Airport', 'temperature': '10', 'symbol': '05d', 'weatherDescription': 'Rain showers', 'text': '\"Rain shower\"', 'windSpeed': '35', 'windGust': '74', 'cardinalWindDirection': 'SW', 'windDirection': 225, 'humidity': ' 71 ', 'rainfall': ' 0.2 ', 'pressure': '974', 'dayName': 'Sunday', 'date': '09-02-2020', 'reportTime': '10:00'}, {'name': 'Dublin Airport', 'temperature': '11', 'symbol': '05d', 'weatherDescription': 'Rain showers', 'text': '\"Rain shower\"', 'windSpeed': '28', 'windGust': '65', 'cardinalWindDirection': 'W', 'windDirection': 270, 'humidity': ' 77 ', 'rainfall': ' 0.1 ', 'pressure': '975', 'dayName': 'Sunday', 'date': '09-02-2020', 'reportTime': '11:00'}, {'name': 'Dublin Airport', 'temperature': '10', 'symbol': '40d', 'weatherDescription': 'Light rain showers', 'text': '\"Recent Rain\"', 'windSpeed': '31', 'windGust': '85', 'cardinalWindDirection': 'SW', 'windDirection': 225, 'humidity': ' 73 ', 'rainfall': ' 0.5 ', 'pressure': '975', 'dayName': 'Sunday', 'date': '09-02-2020', 'reportTime': '12:00'}, {'name': 'Dublin Airport', 'temperature': '11', 'symbol': '02d', 'weatherDescription': 'Fair', 'text': '\"Fair\"', 'windSpeed': '37', 'windGust': '80', 'cardinalWindDirection': 'SW', 'windDirection': 225, 'humidity': ' 65 ', 'rainfall': ' 0.0 ', 'pressure': '974', 'dayName': 'Sunday', 'date': '09-02-2020', 'reportTime': '13:00'}, {'name': 'Dublin Airport', 'temperature': '7', 'symbol': '05d', 'weatherDescription': 'Rain showers', 'text': '\"Rain shower\"', 'windSpeed': '46', 'windGust': '81', 'cardinalWindDirection': 'W', 'windDirection': 270, 'humidity': ' 83 ', 'rainfall': ' 0.2 ', 'pressure': '975', 'dayName': 'Sunday', 'date': '09-02-2020', 'reportTime': '14:00'}, {'name': 'Dublin Airport', 'temperature': '8', 'symbol': '40d', 'weatherDescription': 'Light rain showers', 'text': '\"Recent Rain\"', 'windSpeed': '28', 'windGust': '76', 'cardinalWindDirection': 'W', 'windDirection': 270, 'humidity': ' 87 ', 'rainfall': ' 1.6 ', 'pressure': '976', 'dayName': 'Sunday', 'date': '09-02-2020', 'reportTime': '15:00'}, {'name': 'Dublin Airport', 'temperature': '8', 'symbol': '40d', 'weatherDescription': 'Light rain showers', 'text': '\"Recent Rain\"', 'windSpeed': '33', 'windGust': '63', 'cardinalWindDirection': 'W', 'windDirection': 270, 'humidity': ' 79 ', 'rainfall': ' 0.1 ', 'pressure': '976', 'dayName': 'Sunday', 'date': '09-02-2020', 'reportTime': '16:00'}, {'name': 'Dublin Airport', 'temperature': '7', 'symbol': '05d', 'weatherDescription': 'Rain showers', 'text': '\"Rain shower\"', 'windSpeed': '37', 'windGust': '72', 'cardinalWindDirection': 'W', 'windDirection': 270, 'humidity': ' 85 ', 'rainfall': ' 0.5 ', 'pressure': '977', 'dayName': 'Sunday', 'date': '09-02-2020', 'reportTime': '17:00'}, {'name': 'Dublin Airport', 'temperature': '7', 'symbol': '40n', 'weatherDescription': 'Light rain showers', 'text': '\"Recent Rain\"', 'windSpeed': '24', 'windGust': '70', 'cardinalWindDirection': 'W', 'windDirection': 270, 'humidity': ' 83 ', 'rainfall': ' 0.8 ', 'pressure': '978', 'dayName': 'Sunday', 'date': '09-02-2020', 'reportTime': '18:00'}, {'name': 'Dublin Airport', 'temperature': '7', 'symbol': '40n', 'weatherDescription': 'Light rain showers', 'text': '\"Recent Rain\"', 'windSpeed': '30', 'windGust': '52', 'cardinalWindDirection': 'W', 'windDirection': 270, 'humidity': ' 82 ', 'rainfall': ' 0.1 ', 'pressure': '979', 'dayName': 'Sunday', 'date': '09-02-2020', 'reportTime': '19:00'}, {'name': 'Dublin Airport', 'temperature': '6', 'symbol': '05n', 'weatherDescription': 'Rain showers', 'text': '\"Rain shower\"', 'windSpeed': '33', 'windGust': '57', 'cardinalWindDirection': 'W', 'windDirection': 270, 'humidity': ' 85 ', 'rainfall': ' 0.3 ', 'pressure': '981', 'dayName': 'Sunday', 'date': '09-02-2020', 'reportTime': '20:00'}, {'name': 'Dublin Airport', 'temperature': '6', 'symbol': '40n', 'weatherDescription': 'Light rain showers', 'text': '\"Recent Rain\"', 'windSpeed': '26', 'windGust': '54', 'cardinalWindDirection': 'W', 'windDirection': 270, 'humidity': ' 88 ', 'rainfall': ' 0.3 ', 'pressure': '982', 'dayName': 'Sunday', 'date': '09-02-2020', 'reportTime': '21:00'}, {'name': 'Dublin Airport', 'temperature': '6', 'symbol': '05n', 'weatherDescription': 'Rain showers', 'text': '\"Rain shower\"', 'windSpeed': '39', 'windGust': '61', 'cardinalWindDirection': 'W', 'windDirection': 270, 'humidity': ' 78 ', 'rainfall': ' 0.01 ', 'pressure': '983', 'dayName': 'Sunday', 'date': '09-02-2020', 'reportTime': '22:00'}, {'name': 'Dublin Airport', 'temperature': '5', 'symbol': '05n', 'weatherDescription': 'Rain showers', 'text': '\"Rain shower\"', 'windSpeed': '30', 'windGust': '61', 'cardinalWindDirection': 'W', 'windDirection': 270, 'humidity': ' 84 ', 'rainfall': ' 0.01 ', 'pressure': '985', 'dayName': 'Sunday', 'date': '09-02-2020', 'reportTime': '23:00'}]\n"
     ]
    }
   ],
   "source": [
    "# Q1\n",
    "# a\n",
    "import os\n",
    "import json\n",
    "try:\n",
    "    with open (\"DublinAirport090220.json\") as f:\n",
    "        line = json.load(f)\n",
    "        print(line)\n",
    "except Exception as e:\n",
    "    raise e"
   ]
  },
  {
   "cell_type": "code",
   "execution_count": 27,
   "metadata": {},
   "outputs": [
    {
     "name": "stdout",
     "output_type": "stream",
     "text": [
      "Temperature\n",
      "11\n",
      "11\n",
      "11\n",
      "11\n",
      "11\n",
      "11\n",
      "11\n",
      "11\n",
      "10\n",
      "9\n",
      "10\n",
      "11\n",
      "10\n",
      "11\n",
      "7\n",
      "8\n",
      "8\n",
      "7\n",
      "7\n",
      "7\n",
      "6\n",
      "6\n",
      "6\n",
      "5\n",
      "--------\n",
      "weatherDescription\n",
      "Light rain showers\n",
      "Light rain \n",
      "Light rain \n",
      "Light rain \n",
      "Light rain \n",
      "Light rain \n",
      "Light rain \n",
      "Light rain \n",
      "Rain\n",
      "Light rain \n",
      "Rain showers\n",
      "Rain showers\n",
      "Light rain showers\n",
      "Fair\n",
      "Rain showers\n",
      "Light rain showers\n",
      "Light rain showers\n",
      "Rain showers\n",
      "Light rain showers\n",
      "Light rain showers\n",
      "Rain showers\n",
      "Light rain showers\n",
      "Rain showers\n",
      "Rain showers\n",
      "--------\n",
      "reportTime\n",
      "00:00\n",
      "01:00\n",
      "02:00\n",
      "03:00\n",
      "04:00\n",
      "05:00\n",
      "06:00\n",
      "07:00\n",
      "08:00\n",
      "09:00\n",
      "10:00\n",
      "11:00\n",
      "12:00\n",
      "13:00\n",
      "14:00\n",
      "15:00\n",
      "16:00\n",
      "17:00\n",
      "18:00\n",
      "19:00\n",
      "20:00\n",
      "21:00\n",
      "22:00\n",
      "23:00\n"
     ]
    }
   ],
   "source": [
    "# Q1\n",
    "# b\n",
    "print(\"Temperature\")\n",
    "for i in range(len(line)):\n",
    "    print(line[i][\"temperature\"])\n",
    "\n",
    "print(\"--------\\nweatherDescription\")\n",
    "for i in range(len(line)):\n",
    "    print(line[i][\"weatherDescription\"])\n",
    "\n",
    "print(\"--------\\nreportTime\")\n",
    "for i in range(len(line)):\n",
    "    print(line[i][\"reportTime\"])"
   ]
  },
  {
   "cell_type": "code",
   "execution_count": 24,
   "metadata": {},
   "outputs": [],
   "source": [
    "import xml.etree.ElementTree as ET\n",
    "import csv\n",
    "\n",
    "tree = ET.parse(\"DublinAirport090220.xml\")\n",
    "root = tree.getroot()"
   ]
  },
  {
   "cell_type": "code",
   "execution_count": 7,
   "metadata": {},
   "outputs": [
    {
     "name": "stdout",
     "output_type": "stream",
     "text": [
      "(200,)\n",
      "[  0   2   4   6   8  10  12  14  16  18  20  22  24  26  28  30  32  34\n",
      "  36  38  40  42  44  46  48  50  52  54  56  58  60  62  64  66  68  70\n",
      "  72  74  76  78  80  82  84  86  88  90  92  94  96  98 100 102 104 106\n",
      " 108 110 112 114 116 118 120 122 124 126 128 130 132 134 136 138 140 142\n",
      " 144 146 148 150 152 154 156 158 160 162 164 166 168 170 172 174 176 178\n",
      " 180 182 184 186 188 190 192 194 196 198 200 202 204 206 208 210 212 214\n",
      " 216 218 220 222 224 226 228 230 232 234 236 238 240 242 244 246 248 250\n",
      " 252 254 256 258 260 262 264 266 268 270 272 274 276 278 280 282 284 286\n",
      " 288 290 292 294 296 298 300 302 304 306 308 310 312 314 316 318 320 322\n",
      " 324 326 328 330 332 334 336 338 340 342 344 346 348 350 352 354 356 358\n",
      " 360 362 364 366 368 370 372 374 376 378 380 382 384 386 388 390 392 394\n",
      " 396 398]\n",
      "<class 'numpy.ndarray'>\n"
     ]
    }
   ],
   "source": [
    "# Q2\n",
    "# a\n",
    "import numpy as np\n",
    "b = np.arange(0,400,2)\n",
    "print(b.shape)\n",
    "print(b)\n",
    "print(type(b))"
   ]
  },
  {
   "cell_type": "code",
   "execution_count": 6,
   "metadata": {},
   "outputs": [
    {
     "name": "stdout",
     "output_type": "stream",
     "text": [
      "(50, 4)\n",
      "[[  0   2   4   6]\n",
      " [  8  10  12  14]\n",
      " [ 16  18  20  22]\n",
      " [ 24  26  28  30]\n",
      " [ 32  34  36  38]\n",
      " [ 40  42  44  46]\n",
      " [ 48  50  52  54]\n",
      " [ 56  58  60  62]\n",
      " [ 64  66  68  70]\n",
      " [ 72  74  76  78]\n",
      " [ 80  82  84  86]\n",
      " [ 88  90  92  94]\n",
      " [ 96  98 100 102]\n",
      " [104 106 108 110]\n",
      " [112 114 116 118]\n",
      " [120 122 124 126]\n",
      " [128 130 132 134]\n",
      " [136 138 140 142]\n",
      " [144 146 148 150]\n",
      " [152 154 156 158]\n",
      " [160 162 164 166]\n",
      " [168 170 172 174]\n",
      " [176 178 180 182]\n",
      " [184 186 188 190]\n",
      " [192 194 196 198]\n",
      " [200 202 204 206]\n",
      " [208 210 212 214]\n",
      " [216 218 220 222]\n",
      " [224 226 228 230]\n",
      " [232 234 236 238]\n",
      " [240 242 244 246]\n",
      " [248 250 252 254]\n",
      " [256 258 260 262]\n",
      " [264 266 268 270]\n",
      " [272 274 276 278]\n",
      " [280 282 284 286]\n",
      " [288 290 292 294]\n",
      " [296 298 300 302]\n",
      " [304 306 308 310]\n",
      " [312 314 316 318]\n",
      " [320 322 324 326]\n",
      " [328 330 332 334]\n",
      " [336 338 340 342]\n",
      " [344 346 348 350]\n",
      " [352 354 356 358]\n",
      " [360 362 364 366]\n",
      " [368 370 372 374]\n",
      " [376 378 380 382]\n",
      " [384 386 388 390]\n",
      " [392 394 396 398]]\n",
      "<class 'numpy.ndarray'>\n"
     ]
    }
   ],
   "source": [
    "# Q2\n",
    "# b\n",
    "Reshape_b=b.reshape(50,4)\n",
    "print(Reshape_b.shape)\n",
    "print(Reshape_b)\n",
    "print(type(Reshape_b))"
   ]
  },
  {
   "cell_type": "code",
   "execution_count": 10,
   "metadata": {},
   "outputs": [
    {
     "data": {
      "text/plain": [
       "array([  6,  14,  22,  30,  38,  46,  54,  62,  70,  78,  86,  94, 102,\n",
       "       110, 118, 126, 134, 142, 150, 158, 166, 174, 182, 190, 198, 206,\n",
       "       214, 222, 230, 238, 246, 254, 262, 270, 278, 286, 294, 302, 310,\n",
       "       318, 326, 334, 342, 350, 358, 366, 374, 382, 390, 398])"
      ]
     },
     "execution_count": 10,
     "metadata": {},
     "output_type": "execute_result"
    }
   ],
   "source": [
    "# 2\n",
    "# c # i\n",
    "Reshape_b[:,3]"
   ]
  },
  {
   "cell_type": "code",
   "execution_count": 11,
   "metadata": {},
   "outputs": [
    {
     "data": {
      "text/plain": [
       "array([[  0,   2,   4,   6],\n",
       "       [ 16,  18,  20,  22],\n",
       "       [ 32,  34,  36,  38],\n",
       "       [ 48,  50,  52,  54],\n",
       "       [ 64,  66,  68,  70],\n",
       "       [ 80,  82,  84,  86],\n",
       "       [ 96,  98, 100, 102],\n",
       "       [112, 114, 116, 118],\n",
       "       [128, 130, 132, 134],\n",
       "       [144, 146, 148, 150],\n",
       "       [160, 162, 164, 166],\n",
       "       [176, 178, 180, 182],\n",
       "       [192, 194, 196, 198],\n",
       "       [208, 210, 212, 214],\n",
       "       [224, 226, 228, 230],\n",
       "       [240, 242, 244, 246],\n",
       "       [256, 258, 260, 262],\n",
       "       [272, 274, 276, 278],\n",
       "       [288, 290, 292, 294],\n",
       "       [304, 306, 308, 310],\n",
       "       [320, 322, 324, 326],\n",
       "       [336, 338, 340, 342],\n",
       "       [352, 354, 356, 358],\n",
       "       [368, 370, 372, 374],\n",
       "       [384, 386, 388, 390]])"
      ]
     },
     "execution_count": 11,
     "metadata": {},
     "output_type": "execute_result"
    }
   ],
   "source": [
    "# 2\n",
    "# c # ii\n",
    "Reshape_b[::2]"
   ]
  },
  {
   "cell_type": "code",
   "execution_count": 12,
   "metadata": {},
   "outputs": [
    {
     "data": {
      "text/plain": [
       "array([  6,  22,  38,  54,  70,  86, 102, 118, 134, 150, 166, 182, 198,\n",
       "       214, 230, 246, 262, 278, 294, 310, 326, 342, 358, 374, 390, 406,\n",
       "       422, 438, 454, 470, 486, 502, 518, 534, 550, 566, 582, 598, 614,\n",
       "       630, 646, 662, 678, 694, 710, 726, 742, 758, 774, 790])"
      ]
     },
     "execution_count": 12,
     "metadata": {},
     "output_type": "execute_result"
    }
   ],
   "source": [
    "Reshape_b[:,1] + Reshape_b[:,2]"
   ]
  },
  {
   "cell_type": "code",
   "execution_count": 16,
   "metadata": {},
   "outputs": [],
   "source": [
    "# Q3\n",
    "str='''Tweet Twoo Twitter Town\n",
    "Have you seen a Toon too?\n",
    "At noon in the townhall\n",
    "The yellow sun soon shone.'''"
   ]
  },
  {
   "cell_type": "code",
   "execution_count": 17,
   "metadata": {},
   "outputs": [
    {
     "name": "stdout",
     "output_type": "stream",
     "text": [
      "Tw{ee}t Tw{oo} Twi{tt}er Town\n",
      "Have you s{ee}n a T{oo}n t{oo}?\n",
      "At n{oo}n in the townha{ll}\n",
      "The ye{ll}ow sun s{oo}n shone.\n"
     ]
    }
   ],
   "source": [
    "# Q3\n",
    "# a\n",
    "import re\n",
    "Newstr=re.sub(r\"([a-z])\\1\",\"{\\\\1\\\\1}\",str)\n",
    "print(Newstr)"
   ]
  },
  {
   "cell_type": "code",
   "execution_count": 18,
   "metadata": {},
   "outputs": [
    {
     "name": "stdout",
     "output_type": "stream",
     "text": [
      "Tweet Twoo Twitter Town\n",
      "Have you seen a Toon too{?}\n",
      "At noon in the townhall\n",
      "The yellow sun soon shone.\n"
     ]
    }
   ],
   "source": [
    "# Q3\n",
    "# b\n",
    "import re\n",
    "Newstr=re.sub(r\"\\?\",\"{?}\",str)\n",
    "print(Newstr)"
   ]
  },
  {
   "cell_type": "code",
   "execution_count": null,
   "metadata": {},
   "outputs": [],
   "source": []
  }
 ],
 "metadata": {
  "kernelspec": {
   "display_name": "Python 3",
   "language": "python",
   "name": "python3"
  },
  "language_info": {
   "codemirror_mode": {
    "name": "ipython",
    "version": 3
   },
   "file_extension": ".py",
   "mimetype": "text/x-python",
   "name": "python",
   "nbconvert_exporter": "python",
   "pygments_lexer": "ipython3",
   "version": "3.7.3"
  }
 },
 "nbformat": 4,
 "nbformat_minor": 2
}
